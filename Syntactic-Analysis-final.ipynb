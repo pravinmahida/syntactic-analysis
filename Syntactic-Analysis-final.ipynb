{
 "cells": [
  {
   "cell_type": "markdown",
   "metadata": {},
   "source": [
    "## POS tagging using modified Viterbi"
   ]
  },
  {
   "cell_type": "markdown",
   "metadata": {},
   "source": [
    "### Data Preparation"
   ]
  },
  {
   "cell_type": "code",
   "execution_count": 222,
   "metadata": {},
   "outputs": [],
   "source": [
    "\n",
    "#Importing libraries\n",
    "import nltk, re, pprint\n",
    "import numpy as np\n",
    "import pandas as pd\n",
    "import requests\n",
    "import matplotlib.pyplot as plt\n",
    "import seaborn as sns\n",
    "import pprint, time\n",
    "import random\n",
    "from sklearn.model_selection import train_test_split\n",
    "from nltk.tokenize import word_tokenize"
   ]
  },
  {
   "cell_type": "code",
   "execution_count": 223,
   "metadata": {},
   "outputs": [
    {
     "data": {
      "text/plain": [
       "['Android is a mobile operating system developed by Google.\\n',\n",
       " 'Android has been the best-selling OS worldwide on smartphones since 2011 and on tablets since 2013.\\n',\n",
       " \"Google and Twitter made a deal in 2015 that gave Google access to Twitter's firehose.\\n\",\n",
       " 'Twitter is an online news and social networking service on which users post and interact with messages known as tweets.\\n',\n",
       " 'Before entering politics, Donald Trump was a domineering businessman and a television personality.\\n',\n",
       " 'The 2018 FIFA World Cup is the 21st FIFA World Cup, an international football tournament contested once every four years.\\n',\n",
       " 'This is the first World Cup to be held in Eastern Europe and the 11th time that it has been held in Europe.\\n',\n",
       " 'Show me the cheapest round trips from Dallas to Atlanta\\n',\n",
       " 'I would like to see flights from Denver to Philadelphia.\\n',\n",
       " 'Show me the price of the flights leaving Atlanta at about 3 in the afternoon and arriving in San Francisco.\\n',\n",
       " 'NASA invited social media users to experience the launch of ICESAT-2 Satellite.\\n',\n",
       " '\\n',\n",
       " '\\n',\n",
       " '\\n']"
      ]
     },
     "execution_count": 223,
     "metadata": {},
     "output_type": "execute_result"
    }
   ],
   "source": [
    "# Get the sentences of sample test file.\n",
    "test_sentences = [];\n",
    "\n",
    "myfile = open(\"Test_sentences.txt\")\n",
    "for line in myfile:\n",
    "   test_sentences.append(line)\n",
    "myfile.close()\n",
    "test_sentences\n",
    "\n"
   ]
  },
  {
   "cell_type": "code",
   "execution_count": 224,
   "metadata": {},
   "outputs": [],
   "source": [
    "# reading the Treebank tagged sentences\n",
    "nltk_data = list(nltk.corpus.treebank.tagged_sents(tagset='universal'))"
   ]
  },
  {
   "cell_type": "code",
   "execution_count": 225,
   "metadata": {},
   "outputs": [
    {
     "name": "stdout",
     "output_type": "stream",
     "text": [
      "[[('Pierre', 'NOUN'), ('Vinken', 'NOUN'), (',', '.'), ('61', 'NUM'), ('years', 'NOUN'), ('old', 'ADJ'), (',', '.'), ('will', 'VERB'), ('join', 'VERB'), ('the', 'DET'), ('board', 'NOUN'), ('as', 'ADP'), ('a', 'DET'), ('nonexecutive', 'ADJ'), ('director', 'NOUN'), ('Nov.', 'NOUN'), ('29', 'NUM'), ('.', '.')], [('Mr.', 'NOUN'), ('Vinken', 'NOUN'), ('is', 'VERB'), ('chairman', 'NOUN'), ('of', 'ADP'), ('Elsevier', 'NOUN'), ('N.V.', 'NOUN'), (',', '.'), ('the', 'DET'), ('Dutch', 'NOUN'), ('publishing', 'VERB'), ('group', 'NOUN'), ('.', '.')], [('Rudolph', 'NOUN'), ('Agnew', 'NOUN'), (',', '.'), ('55', 'NUM'), ('years', 'NOUN'), ('old', 'ADJ'), ('and', 'CONJ'), ('former', 'ADJ'), ('chairman', 'NOUN'), ('of', 'ADP'), ('Consolidated', 'NOUN'), ('Gold', 'NOUN'), ('Fields', 'NOUN'), ('PLC', 'NOUN'), (',', '.'), ('was', 'VERB'), ('named', 'VERB'), ('*-1', 'X'), ('a', 'DET'), ('nonexecutive', 'ADJ'), ('director', 'NOUN'), ('of', 'ADP'), ('this', 'DET'), ('British', 'ADJ'), ('industrial', 'ADJ'), ('conglomerate', 'NOUN'), ('.', '.')], [('A', 'DET'), ('form', 'NOUN'), ('of', 'ADP'), ('asbestos', 'NOUN'), ('once', 'ADV'), ('used', 'VERB'), ('*', 'X'), ('*', 'X'), ('to', 'PRT'), ('make', 'VERB'), ('Kent', 'NOUN'), ('cigarette', 'NOUN'), ('filters', 'NOUN'), ('has', 'VERB'), ('caused', 'VERB'), ('a', 'DET'), ('high', 'ADJ'), ('percentage', 'NOUN'), ('of', 'ADP'), ('cancer', 'NOUN'), ('deaths', 'NOUN'), ('among', 'ADP'), ('a', 'DET'), ('group', 'NOUN'), ('of', 'ADP'), ('workers', 'NOUN'), ('exposed', 'VERB'), ('*', 'X'), ('to', 'PRT'), ('it', 'PRON'), ('more', 'ADV'), ('than', 'ADP'), ('30', 'NUM'), ('years', 'NOUN'), ('ago', 'ADP'), (',', '.'), ('researchers', 'NOUN'), ('reported', 'VERB'), ('0', 'X'), ('*T*-1', 'X'), ('.', '.')], [('The', 'DET'), ('asbestos', 'NOUN'), ('fiber', 'NOUN'), (',', '.'), ('crocidolite', 'NOUN'), (',', '.'), ('is', 'VERB'), ('unusually', 'ADV'), ('resilient', 'ADJ'), ('once', 'ADP'), ('it', 'PRON'), ('enters', 'VERB'), ('the', 'DET'), ('lungs', 'NOUN'), (',', '.'), ('with', 'ADP'), ('even', 'ADV'), ('brief', 'ADJ'), ('exposures', 'NOUN'), ('to', 'PRT'), ('it', 'PRON'), ('causing', 'VERB'), ('symptoms', 'NOUN'), ('that', 'DET'), ('*T*-1', 'X'), ('show', 'VERB'), ('up', 'PRT'), ('decades', 'NOUN'), ('later', 'ADJ'), (',', '.'), ('researchers', 'NOUN'), ('said', 'VERB'), ('0', 'X'), ('*T*-2', 'X'), ('.', '.')], [('Lorillard', 'NOUN'), ('Inc.', 'NOUN'), (',', '.'), ('the', 'DET'), ('unit', 'NOUN'), ('of', 'ADP'), ('New', 'ADJ'), ('York-based', 'ADJ'), ('Loews', 'NOUN'), ('Corp.', 'NOUN'), ('that', 'DET'), ('*T*-2', 'X'), ('makes', 'VERB'), ('Kent', 'NOUN'), ('cigarettes', 'NOUN'), (',', '.'), ('stopped', 'VERB'), ('using', 'VERB'), ('crocidolite', 'NOUN'), ('in', 'ADP'), ('its', 'PRON'), ('Micronite', 'NOUN'), ('cigarette', 'NOUN'), ('filters', 'NOUN'), ('in', 'ADP'), ('1956', 'NUM'), ('.', '.')], [('Although', 'ADP'), ('preliminary', 'ADJ'), ('findings', 'NOUN'), ('were', 'VERB'), ('reported', 'VERB'), ('*-2', 'X'), ('more', 'ADV'), ('than', 'ADP'), ('a', 'DET'), ('year', 'NOUN'), ('ago', 'ADP'), (',', '.'), ('the', 'DET'), ('latest', 'ADJ'), ('results', 'NOUN'), ('appear', 'VERB'), ('in', 'ADP'), ('today', 'NOUN'), (\"'s\", 'PRT'), ('New', 'NOUN'), ('England', 'NOUN'), ('Journal', 'NOUN'), ('of', 'ADP'), ('Medicine', 'NOUN'), (',', '.'), ('a', 'DET'), ('forum', 'NOUN'), ('likely', 'ADJ'), ('*', 'X'), ('to', 'PRT'), ('bring', 'VERB'), ('new', 'ADJ'), ('attention', 'NOUN'), ('to', 'PRT'), ('the', 'DET'), ('problem', 'NOUN'), ('.', '.')], [('A', 'DET'), ('Lorillard', 'NOUN'), ('spokewoman', 'NOUN'), ('said', 'VERB'), (',', '.'), ('``', '.'), ('This', 'DET'), ('is', 'VERB'), ('an', 'DET'), ('old', 'ADJ'), ('story', 'NOUN'), ('.', '.')], [('We', 'PRON'), (\"'re\", 'VERB'), ('talking', 'VERB'), ('about', 'ADP'), ('years', 'NOUN'), ('ago', 'ADP'), ('before', 'ADP'), ('anyone', 'NOUN'), ('heard', 'VERB'), ('of', 'ADP'), ('asbestos', 'NOUN'), ('having', 'VERB'), ('any', 'DET'), ('questionable', 'ADJ'), ('properties', 'NOUN'), ('.', '.')], [('There', 'DET'), ('is', 'VERB'), ('no', 'DET'), ('asbestos', 'NOUN'), ('in', 'ADP'), ('our', 'PRON'), ('products', 'NOUN'), ('now', 'ADV'), ('.', '.'), (\"''\", '.')], [('Neither', 'DET'), ('Lorillard', 'NOUN'), ('nor', 'CONJ'), ('the', 'DET'), ('researchers', 'NOUN'), ('who', 'PRON'), ('*T*-3', 'X'), ('studied', 'VERB'), ('the', 'DET'), ('workers', 'NOUN'), ('were', 'VERB'), ('aware', 'ADJ'), ('of', 'ADP'), ('any', 'DET'), ('research', 'NOUN'), ('on', 'ADP'), ('smokers', 'NOUN'), ('of', 'ADP'), ('the', 'DET'), ('Kent', 'NOUN'), ('cigarettes', 'NOUN'), ('.', '.')], [('``', '.'), ('We', 'PRON'), ('have', 'VERB'), ('no', 'DET'), ('useful', 'ADJ'), ('information', 'NOUN'), ('on', 'ADP'), ('whether', 'ADP'), ('users', 'NOUN'), ('are', 'VERB'), ('at', 'ADP'), ('risk', 'NOUN'), (',', '.'), (\"''\", '.'), ('said', 'VERB'), ('*T*-1', 'X'), ('James', 'NOUN'), ('A.', 'NOUN'), ('Talcott', 'NOUN'), ('of', 'ADP'), ('Boston', 'NOUN'), (\"'s\", 'PRT'), ('Dana-Farber', 'NOUN'), ('Cancer', 'NOUN'), ('Institute', 'NOUN'), ('.', '.')], [('Dr.', 'NOUN'), ('Talcott', 'NOUN'), ('led', 'VERB'), ('a', 'DET'), ('team', 'NOUN'), ('of', 'ADP'), ('researchers', 'NOUN'), ('from', 'ADP'), ('the', 'DET'), ('National', 'NOUN'), ('Cancer', 'NOUN'), ('Institute', 'NOUN'), ('and', 'CONJ'), ('the', 'DET'), ('medical', 'ADJ'), ('schools', 'NOUN'), ('of', 'ADP'), ('Harvard', 'NOUN'), ('University', 'NOUN'), ('and', 'CONJ'), ('Boston', 'NOUN'), ('University', 'NOUN'), ('.', '.')], [('The', 'DET'), ('Lorillard', 'NOUN'), ('spokeswoman', 'NOUN'), ('said', 'VERB'), ('0', 'X'), ('asbestos', 'NOUN'), ('was', 'VERB'), ('used', 'VERB'), ('*-1', 'X'), ('in', 'ADP'), ('``', '.'), ('very', 'ADV'), ('modest', 'ADJ'), ('amounts', 'NOUN'), (\"''\", '.'), ('in', 'ADP'), ('*', 'X'), ('making', 'VERB'), ('paper', 'NOUN'), ('for', 'ADP'), ('the', 'DET'), ('filters', 'NOUN'), ('in', 'ADP'), ('the', 'DET'), ('early', 'ADJ'), ('1950s', 'NUM'), ('and', 'CONJ'), ('replaced', 'VERB'), ('*-1', 'X'), ('with', 'ADP'), ('a', 'DET'), ('different', 'ADJ'), ('type', 'NOUN'), ('of', 'ADP'), ('filter', 'NOUN'), ('in', 'ADP'), ('1956', 'NUM'), ('.', '.')], [('From', 'ADP'), ('1953', 'NUM'), ('to', 'PRT'), ('1955', 'NUM'), (',', '.'), ('9.8', 'NUM'), ('billion', 'NUM'), ('Kent', 'NOUN'), ('cigarettes', 'NOUN'), ('with', 'ADP'), ('the', 'DET'), ('filters', 'NOUN'), ('were', 'VERB'), ('sold', 'VERB'), ('*-3', 'X'), (',', '.'), ('the', 'DET'), ('company', 'NOUN'), ('said', 'VERB'), ('0', 'X'), ('*T*-1', 'X'), ('.', '.')], [('Among', 'ADP'), ('33', 'NUM'), ('men', 'NOUN'), ('who', 'PRON'), ('*T*-4', 'X'), ('worked', 'VERB'), ('closely', 'ADV'), ('with', 'ADP'), ('the', 'DET'), ('substance', 'NOUN'), (',', '.'), ('28', 'NUM'), ('*ICH*-1', 'X'), ('have', 'VERB'), ('died', 'VERB'), ('--', '.'), ('more', 'ADJ'), ('than', 'ADP'), ('three', 'NUM'), ('times', 'NOUN'), ('the', 'DET'), ('expected', 'VERB'), ('number', 'NOUN'), ('.', '.')], [('Four', 'NUM'), ('of', 'ADP'), ('the', 'DET'), ('five', 'NUM'), ('surviving', 'VERB'), ('workers', 'NOUN'), ('have', 'VERB'), ('asbestos-related', 'ADJ'), ('diseases', 'NOUN'), (',', '.'), ('including', 'VERB'), ('three', 'NUM'), ('with', 'ADP'), ('recently', 'ADV'), ('diagnosed', 'VERB'), ('cancer', 'NOUN'), ('.', '.')], [('The', 'DET'), ('total', 'NOUN'), ('of', 'ADP'), ('18', 'NUM'), ('deaths', 'NOUN'), ('from', 'ADP'), ('malignant', 'ADJ'), ('mesothelioma', 'NOUN'), (',', '.'), ('lung', 'NOUN'), ('cancer', 'NOUN'), ('and', 'CONJ'), ('asbestosis', 'NOUN'), ('was', 'VERB'), ('far', 'ADV'), ('higher', 'ADJ'), ('than', 'ADP'), ('*', 'X'), ('expected', 'VERB'), ('*?*', 'X'), (',', '.'), ('the', 'DET'), ('researchers', 'NOUN'), ('said', 'VERB'), ('0', 'X'), ('*T*-1', 'X'), ('.', '.')], [('``', '.'), ('The', 'DET'), ('morbidity', 'NOUN'), ('rate', 'NOUN'), ('is', 'VERB'), ('a', 'DET'), ('striking', 'ADJ'), ('finding', 'NOUN'), ('among', 'ADP'), ('those', 'DET'), ('of', 'ADP'), ('us', 'PRON'), ('who', 'PRON'), ('*T*-5', 'X'), ('study', 'VERB'), ('asbestos-related', 'ADJ'), ('diseases', 'NOUN'), (',', '.'), (\"''\", '.'), ('said', 'VERB'), ('*T*-1', 'X'), ('Dr.', 'NOUN'), ('Talcott', 'NOUN'), ('.', '.')], [('The', 'DET'), ('percentage', 'NOUN'), ('of', 'ADP'), ('lung', 'NOUN'), ('cancer', 'NOUN'), ('deaths', 'NOUN'), ('among', 'ADP'), ('the', 'DET'), ('workers', 'NOUN'), ('at', 'ADP'), ('the', 'DET'), ('West', 'NOUN'), ('Groton', 'NOUN'), (',', '.'), ('Mass.', 'NOUN'), (',', '.'), ('paper', 'NOUN'), ('factory', 'NOUN'), ('appears', 'VERB'), ('*-1', 'X'), ('to', 'PRT'), ('be', 'VERB'), ('the', 'DET'), ('highest', 'ADJ'), ('for', 'ADP'), ('any', 'DET'), ('asbestos', 'NOUN'), ('workers', 'NOUN'), ('studied', 'VERB'), ('*', 'X'), ('in', 'ADP'), ('Western', 'ADJ'), ('industrialized', 'VERB'), ('countries', 'NOUN'), (',', '.'), ('he', 'PRON'), ('said', 'VERB'), ('0', 'X'), ('*T*-2', 'X'), ('.', '.')], [('The', 'DET'), ('plant', 'NOUN'), (',', '.'), ('which', 'DET'), ('*T*-1', 'X'), ('is', 'VERB'), ('owned', 'VERB'), ('*-4', 'X'), ('by', 'ADP'), ('Hollingsworth', 'NOUN'), ('&', 'CONJ'), ('Vose', 'NOUN'), ('Co.', 'NOUN'), (',', '.'), ('was', 'VERB'), ('under', 'ADP'), ('contract', 'NOUN'), ('*ICH*-2', 'X'), ('with', 'ADP'), ('Lorillard', 'NOUN'), ('*', 'X'), ('to', 'PRT'), ('make', 'VERB'), ('the', 'DET'), ('cigarette', 'NOUN'), ('filters', 'NOUN'), ('.', '.')], [('The', 'DET'), ('finding', 'NOUN'), ('probably', 'ADV'), ('will', 'VERB'), ('support', 'VERB'), ('those', 'DET'), ('who', 'PRON'), ('*T*-6', 'X'), ('argue', 'VERB'), ('that', 'ADP'), ('the', 'DET'), ('U.S.', 'NOUN'), ('should', 'VERB'), ('regulate', 'VERB'), ('the', 'DET'), ('class', 'NOUN'), ('of', 'ADP'), ('asbestos', 'NOUN'), ('including', 'VERB'), ('crocidolite', 'NOUN'), ('more', 'ADV'), ('stringently', 'ADV'), ('than', 'ADP'), ('the', 'DET'), ('common', 'ADJ'), ('kind', 'NOUN'), ('of', 'ADP'), ('asbestos', 'NOUN'), (',', '.'), ('chrysotile', 'NOUN'), (',', '.'), ('found', 'VERB'), ('*', 'X'), ('in', 'ADP'), ('most', 'ADJ'), ('schools', 'NOUN'), ('and', 'CONJ'), ('other', 'ADJ'), ('buildings', 'NOUN'), (',', '.'), ('Dr.', 'NOUN'), ('Talcott', 'NOUN'), ('said', 'VERB'), ('0', 'X'), ('*T*-1', 'X'), ('.', '.')], [('The', 'DET'), ('U.S.', 'NOUN'), ('is', 'VERB'), ('one', 'NUM'), ('of', 'ADP'), ('the', 'DET'), ('few', 'ADJ'), ('industrialized', 'VERB'), ('nations', 'NOUN'), ('that', 'DET'), ('*T*-7', 'X'), ('does', 'VERB'), (\"n't\", 'ADV'), ('have', 'VERB'), ('a', 'DET'), ('higher', 'ADJ'), ('standard', 'NOUN'), ('of', 'ADP'), ('regulation', 'NOUN'), ('for', 'ADP'), ('the', 'DET'), ('smooth', 'ADJ'), (',', '.'), ('needle-like', 'ADJ'), ('fibers', 'NOUN'), ('such', 'ADJ'), ('as', 'ADP'), ('crocidolite', 'NOUN'), ('that', 'DET'), ('*T*-1', 'X'), ('are', 'VERB'), ('classified', 'VERB'), ('*-5', 'X'), ('as', 'ADP'), ('amphobiles', 'NOUN'), (',', '.'), ('according', 'VERB'), ('to', 'PRT'), ('Brooke', 'NOUN'), ('T.', 'NOUN'), ('Mossman', 'NOUN'), (',', '.'), ('a', 'DET'), ('professor', 'NOUN'), ('of', 'ADP'), ('pathlogy', 'NOUN'), ('at', 'ADP'), ('the', 'DET'), ('University', 'NOUN'), ('of', 'ADP'), ('Vermont', 'NOUN'), ('College', 'NOUN'), ('of', 'ADP'), ('Medicine', 'NOUN'), ('.', '.')], [('More', 'ADV'), ('common', 'ADJ'), ('chrysotile', 'NOUN'), ('fibers', 'NOUN'), ('are', 'VERB'), ('curly', 'ADJ'), ('and', 'CONJ'), ('are', 'VERB'), ('more', 'ADV'), ('easily', 'ADV'), ('rejected', 'VERB'), ('*-1', 'X'), ('by', 'ADP'), ('the', 'DET'), ('body', 'NOUN'), (',', '.'), ('Dr.', 'NOUN'), ('Mossman', 'NOUN'), ('explained', 'VERB'), ('0', 'X'), ('*T*-2', 'X'), ('.', '.')], [('In', 'ADP'), ('July', 'NOUN'), (',', '.'), ('the', 'DET'), ('Environmental', 'NOUN'), ('Protection', 'NOUN'), ('Agency', 'NOUN'), ('imposed', 'VERB'), ('a', 'DET'), ('gradual', 'ADJ'), ('ban', 'NOUN'), ('on', 'ADP'), ('virtually', 'ADV'), ('all', 'DET'), ('uses', 'NOUN'), ('of', 'ADP'), ('asbestos', 'NOUN'), ('.', '.')], [('By', 'ADP'), ('1997', 'NUM'), (',', '.'), ('almost', 'ADV'), ('all', 'DET'), ('remaining', 'VERB'), ('uses', 'NOUN'), ('of', 'ADP'), ('cancer-causing', 'ADJ'), ('asbestos', 'NOUN'), ('will', 'VERB'), ('be', 'VERB'), ('outlawed', 'VERB'), ('*-6', 'X'), ('.', '.')], [('About', 'ADP'), ('160', 'NUM'), ('workers', 'NOUN'), ('at', 'ADP'), ('a', 'DET'), ('factory', 'NOUN'), ('that', 'DET'), ('*T*-8', 'X'), ('made', 'VERB'), ('paper', 'NOUN'), ('for', 'ADP'), ('the', 'DET'), ('Kent', 'NOUN'), ('filters', 'NOUN'), ('were', 'VERB'), ('exposed', 'VERB'), ('*-7', 'X'), ('to', 'PRT'), ('asbestos', 'NOUN'), ('in', 'ADP'), ('the', 'DET'), ('1950s', 'NUM'), ('.', '.')], [('Areas', 'NOUN'), ('of', 'ADP'), ('the', 'DET'), ('factory', 'NOUN'), ('*ICH*-2', 'X'), ('were', 'VERB'), ('particularly', 'ADV'), ('dusty', 'ADJ'), ('where', 'ADV'), ('the', 'DET'), ('crocidolite', 'NOUN'), ('was', 'VERB'), ('used', 'VERB'), ('*-8', 'X'), ('*T*-1', 'X'), ('.', '.')], [('Workers', 'NOUN'), ('dumped', 'VERB'), ('large', 'ADJ'), ('burlap', 'NOUN'), ('sacks', 'NOUN'), ('of', 'ADP'), ('the', 'DET'), ('imported', 'VERB'), ('material', 'NOUN'), ('into', 'ADP'), ('a', 'DET'), ('huge', 'ADJ'), ('bin', 'NOUN'), (',', '.'), ('poured', 'VERB'), ('in', 'PRT'), ('cotton', 'NOUN'), ('and', 'CONJ'), ('acetate', 'NOUN'), ('fibers', 'NOUN'), ('and', 'CONJ'), ('mechanically', 'ADV'), ('mixed', 'VERB'), ('the', 'DET'), ('dry', 'ADJ'), ('fibers', 'NOUN'), ('in', 'ADP'), ('a', 'DET'), ('process', 'NOUN'), ('used', 'VERB'), ('*', 'X'), ('*', 'X'), ('to', 'PRT'), ('make', 'VERB'), ('filters', 'NOUN'), ('.', '.')], [('Workers', 'NOUN'), ('described', 'VERB'), ('``', '.'), ('clouds', 'NOUN'), ('of', 'ADP'), ('blue', 'ADJ'), ('dust', 'NOUN'), (\"''\", '.'), ('that', 'DET'), ('*T*-1', 'X'), ('hung', 'VERB'), ('over', 'ADP'), ('parts', 'NOUN'), ('of', 'ADP'), ('the', 'DET'), ('factory', 'NOUN'), (',', '.'), ('even', 'ADV'), ('though', 'ADP'), ('exhaust', 'NOUN'), ('fans', 'NOUN'), ('ventilated', 'VERB'), ('the', 'DET'), ('area', 'NOUN'), ('.', '.')], [('``', '.'), ('There', 'DET'), (\"'s\", 'VERB'), ('no', 'DET'), ('question', 'NOUN'), ('that', 'ADP'), ('some', 'DET'), ('of', 'ADP'), ('those', 'DET'), ('workers', 'NOUN'), ('and', 'CONJ'), ('managers', 'NOUN'), ('contracted', 'VERB'), ('asbestos-related', 'ADJ'), ('diseases', 'NOUN'), (',', '.'), (\"''\", '.'), ('said', 'VERB'), ('*T*-1', 'X'), ('Darrell', 'NOUN'), ('Phillips', 'NOUN'), (',', '.'), ('vice', 'NOUN'), ('president', 'NOUN'), ('of', 'ADP'), ('human', 'ADJ'), ('resources', 'NOUN'), ('for', 'ADP'), ('Hollingsworth', 'NOUN'), ('&', 'CONJ'), ('Vose', 'NOUN'), ('.', '.')], [('``', '.'), ('But', 'CONJ'), ('you', 'PRON'), ('have', 'VERB'), ('*-1', 'X'), ('to', 'PRT'), ('recognize', 'VERB'), ('that', 'ADP'), ('these', 'DET'), ('events', 'NOUN'), ('took', 'VERB'), ('place', 'NOUN'), ('35', 'NUM'), ('years', 'NOUN'), ('ago', 'ADP'), ('.', '.')], [('It', 'PRON'), ('has', 'VERB'), ('no', 'DET'), ('bearing', 'NOUN'), ('on', 'ADP'), ('our', 'PRON'), ('work', 'NOUN'), ('force', 'NOUN'), ('today', 'NOUN'), ('.', '.')], [('Yields', 'NOUN'), ('on', 'ADP'), ('money-market', 'ADJ'), ('mutual', 'ADJ'), ('funds', 'NOUN'), ('continued', 'VERB'), ('*-1', 'X'), ('to', 'PRT'), ('slide', 'VERB'), (',', '.'), ('amid', 'ADP'), ('signs', 'NOUN'), ('that', 'ADP'), ('portfolio', 'NOUN'), ('managers', 'NOUN'), ('expect', 'VERB'), ('further', 'ADJ'), ('declines', 'NOUN'), ('in', 'ADP'), ('interest', 'NOUN'), ('rates', 'NOUN'), ('.', '.')], [('The', 'DET'), ('average', 'ADJ'), ('seven-day', 'ADJ'), ('compound', 'NOUN'), ('yield', 'NOUN'), ('of', 'ADP'), ('the', 'DET'), ('400', 'NUM'), ('taxable', 'ADJ'), ('funds', 'NOUN'), ('tracked', 'VERB'), ('*', 'X'), ('by', 'ADP'), ('IBC', 'NOUN'), (\"'s\", 'PRT'), ('Money', 'NOUN'), ('Fund', 'NOUN'), ('Report', 'NOUN'), ('eased', 'VERB'), ('a', 'DET'), ('fraction', 'NOUN'), ('of', 'ADP'), ('a', 'DET'), ('percentage', 'NOUN'), ('point', 'NOUN'), ('to', 'PRT'), ('8.45', 'NUM'), ('%', 'NOUN'), ('from', 'ADP'), ('8.47', 'NUM'), ('%', 'NOUN'), ('for', 'ADP'), ('the', 'DET'), ('week', 'NOUN'), ('ended', 'VERB'), ('Tuesday', 'NOUN'), ('.', '.')], [('Compound', 'NOUN'), ('yields', 'NOUN'), ('assume', 'VERB'), ('reinvestment', 'NOUN'), ('of', 'ADP'), ('dividends', 'NOUN'), ('and', 'CONJ'), ('that', 'ADP'), ('the', 'DET'), ('current', 'ADJ'), ('yield', 'NOUN'), ('continues', 'VERB'), ('for', 'ADP'), ('a', 'DET'), ('year', 'NOUN'), ('.', '.')], [('Average', 'ADJ'), ('maturity', 'NOUN'), ('of', 'ADP'), ('the', 'DET'), ('funds', 'NOUN'), (\"'\", 'PRT'), ('investments', 'NOUN'), ('lengthened', 'VERB'), ('by', 'ADP'), ('a', 'DET'), ('day', 'NOUN'), ('to', 'PRT'), ('41', 'NUM'), ('days', 'NOUN'), (',', '.'), ('the', 'DET'), ('longest', 'ADJ'), ('since', 'ADP'), ('early', 'ADJ'), ('August', 'NOUN'), (',', '.'), ('according', 'VERB'), ('to', 'PRT'), ('Donoghue', 'NOUN'), (\"'s\", 'PRT'), ('.', '.')], [('Longer', 'ADJ'), ('maturities', 'NOUN'), ('are', 'VERB'), ('thought', 'VERB'), ('*-1', 'X'), ('to', 'PRT'), ('indicate', 'VERB'), ('declining', 'VERB'), ('interest', 'NOUN'), ('rates', 'NOUN'), ('because', 'ADP'), ('they', 'PRON'), ('permit', 'VERB'), ('portfolio', 'NOUN'), ('managers', 'NOUN'), ('to', 'PRT'), ('retain', 'VERB'), ('relatively', 'ADV'), ('higher', 'ADJ'), ('rates', 'NOUN'), ('for', 'ADP'), ('a', 'DET'), ('longer', 'ADJ'), ('period', 'NOUN'), ('.', '.')], [('Shorter', 'ADJ'), ('maturities', 'NOUN'), ('are', 'VERB'), ('considered', 'VERB'), ('*-9', 'X'), ('a', 'DET'), ('sign', 'NOUN'), ('of', 'ADP'), ('rising', 'VERB'), ('rates', 'NOUN'), ('because', 'ADP'), ('portfolio', 'NOUN'), ('managers', 'NOUN'), ('can', 'VERB'), ('capture', 'VERB'), ('higher', 'ADJ'), ('rates', 'NOUN'), ('sooner', 'ADV'), ('.', '.')], [('The', 'DET'), ('average', 'ADJ'), ('maturity', 'NOUN'), ('for', 'ADP'), ('funds', 'NOUN'), ('open', 'ADJ'), ('only', 'ADV'), ('to', 'PRT'), ('institutions', 'NOUN'), (',', '.'), ('considered', 'VERB'), ('by', 'ADP'), ('some', 'DET'), ('*', 'X'), ('to', 'PRT'), ('be', 'VERB'), ('a', 'DET'), ('stronger', 'ADJ'), ('indicator', 'NOUN'), ('because', 'ADP'), ('those', 'DET'), ('managers', 'NOUN'), ('watch', 'VERB'), ('the', 'DET'), ('market', 'NOUN'), ('closely', 'ADV'), (',', '.'), ('reached', 'VERB'), ('a', 'DET'), ('high', 'ADJ'), ('point', 'NOUN'), ('for', 'ADP'), ('the', 'DET'), ('year', 'NOUN'), ('--', '.'), ('33', 'NUM'), ('days', 'NOUN'), ('.', '.')]]\n"
     ]
    }
   ],
   "source": [
    "# first few tagged sentences\n",
    "print(nltk_data[:40])"
   ]
  },
  {
   "cell_type": "code",
   "execution_count": 226,
   "metadata": {},
   "outputs": [
    {
     "name": "stdout",
     "output_type": "stream",
     "text": [
      "1957\n",
      "1957\n",
      "[[('But', 'CONJ'), ('many', 'ADJ'), ('banks', 'NOUN'), ('are', 'VERB'), ('turning', 'VERB'), ('away', 'ADV'), ('from', 'ADP'), ('strict', 'ADJ'), ('price', 'NOUN'), ('competition', 'NOUN'), ('.', '.')], [('He', 'PRON'), ('said', 'VERB'), ('0', 'X'), ('Equitable', 'NOUN'), ('hopes', 'VERB'), ('*-1', 'X'), ('to', 'PRT'), ('eventually', 'ADV'), ('reduce', 'VERB'), ('its', 'PRON'), ('stake', 'NOUN'), ('in', 'ADP'), ('Younkers', 'NOUN'), ('to', 'PRT'), ('less', 'ADJ'), ('than', 'ADP'), ('50', 'NUM'), ('%', 'NOUN'), ('.', '.')], [('That', 'DET'), ('can', 'VERB'), ('pay', 'VERB'), ('off', 'PRT'), ('down', 'ADP'), ('the', 'DET'), ('road', 'NOUN'), ('as', 'ADP'), ('customers', 'NOUN'), (',', '.'), ('especially', 'ADV'), ('the', 'DET'), ('younger', 'ADJ'), ('ones', 'NOUN'), (',', '.'), ('change', 'VERB'), ('from', 'ADP'), ('borrowers', 'NOUN'), ('to', 'PRT'), ('savers\\\\/investors', 'NOUN'), ('.', '.')], [('Mr.', 'NOUN'), ('Coleman', 'NOUN'), ('said', 'VERB'), ('this', 'DET'), ('week', 'NOUN'), ('that', 'ADP'), ('he', 'PRON'), ('would', 'VERB'), ('devote', 'VERB'), ('the', 'DET'), ('remainder', 'NOUN'), ('of', 'ADP'), ('the', 'DET'), ('political', 'ADJ'), ('season', 'NOUN'), ('to', 'PRT'), ('positive', 'ADJ'), ('campaigning', 'NOUN'), (',', '.'), ('but', 'CONJ'), ('the', 'DET'), ('truce', 'NOUN'), ('lasted', 'VERB'), ('only', 'ADV'), ('hours', 'NOUN'), ('.', '.')], [('That', 'DET'), ('compares', 'VERB'), ('with', 'ADP'), ('operating', 'VERB'), ('earnings', 'NOUN'), ('of', 'ADP'), ('$', '.'), ('132.9', 'NUM'), ('million', 'NUM'), ('*U*', 'X'), (',', '.'), ('or', 'CONJ'), ('49', 'NUM'), ('cents', 'NOUN'), ('a', 'DET'), ('share', 'NOUN'), (',', '.'), ('the', 'DET'), ('year', 'NOUN'), ('earlier', 'ADJ'), ('.', '.')], [('So', 'ADV'), ('if', 'ADP'), ('index', 'NOUN'), ('arbitrage', 'NOUN'), ('is', 'VERB'), ('simply', 'ADV'), ('*', 'X'), ('taking', 'VERB'), ('advantage', 'NOUN'), ('of', 'ADP'), ('thin', 'ADJ'), ('inefficiencies', 'NOUN'), ('between', 'ADP'), ('two', 'NUM'), ('markets', 'NOUN'), ('for', 'ADP'), ('the', 'DET'), ('same', 'ADJ'), ('widget', 'NOUN'), (',', '.'), ('how', 'ADV'), ('did', 'VERB'), ('``', '.'), ('program', 'NOUN'), ('trading', 'NOUN'), (\"''\", '.'), ('evolve', 'VERB'), ('into', 'ADP'), ('the', 'DET'), ('evil', 'ADJ'), ('creature', 'NOUN'), ('that', 'DET'), ('*T*-2', 'X'), ('is', 'VERB'), ('evoking', 'VERB'), ('the', 'DET'), ('curses', 'NOUN'), ('of', 'ADP'), ('so', 'ADV'), ('many', 'ADJ'), ('observers', 'NOUN'), ('*T*-1', 'X'), ('?', '.')], [('Quant', 'NOUN'), ('--', '.'), ('Generally', 'ADV'), (',', '.'), ('any', 'DET'), ('Wall', 'NOUN'), ('Street', 'NOUN'), ('analyst', 'NOUN'), ('who', 'PRON'), ('*T*-1', 'X'), ('employs', 'VERB'), ('quantitive', 'ADJ'), ('research', 'NOUN'), ('techniques', 'NOUN'), ('.', '.')], [('Several', 'ADJ'), ('times', 'NOUN'), (',', '.'), ('Chinese', 'ADJ'), ('guards', 'NOUN'), ('have', 'VERB'), ('pointed', 'VERB'), ('their', 'PRON'), ('automatic', 'ADJ'), ('rifles', 'NOUN'), ('at', 'ADP'), ('young', 'ADJ'), ('children', 'NOUN'), ('of', 'ADP'), ('U.S.', 'NOUN'), ('diplomats', 'NOUN'), ('and', 'CONJ'), ('clicked', 'VERB'), ('the', 'DET'), ('trigger', 'NOUN'), ('.', '.')], [('He', 'PRON'), ('has', 'VERB'), ('looked', 'VERB'), ('at', 'ADP'), ('14', 'NUM'), ('baseball', 'NOUN'), ('and', 'CONJ'), ('football', 'NOUN'), ('stadiums', 'NOUN'), ('and', 'CONJ'), ('found', 'VERB'), ('that', 'ADP'), ('only', 'ADV'), ('one', 'NUM'), ('--', '.'), ('private', 'ADJ'), ('Dodger', 'NOUN'), ('Stadium', 'NOUN'), ('--', '.'), ('brought', 'VERB'), ('more', 'ADJ'), ('money', 'NOUN'), ('*ICH*-1', 'X'), ('into', 'ADP'), ('a', 'DET'), ('city', 'NOUN'), ('than', 'ADP'), ('it', 'PRON'), ('took', 'VERB'), ('out', 'ADP'), ('.', '.')], [('``', '.'), ('The', 'DET'), ('way', 'NOUN'), ('that', 'ADP'), ('we', 'PRON'), (\"'ve\", 'VERB'), ('been', 'VERB'), ('managing', 'VERB'), ('Campbell', 'NOUN'), ('U.S.A.', 'NOUN'), ('*T*-2', 'X'), ('can', 'VERB'), ('hopefully', 'ADV'), ('spread', 'VERB'), ('to', 'PRT'), ('other', 'ADJ'), ('areas', 'NOUN'), ('of', 'ADP'), ('the', 'DET'), ('company', 'NOUN'), (',', '.'), (\"''\", '.'), ('Mr.', 'NOUN'), ('Baum', 'NOUN'), ('said', 'VERB'), ('*T*-1', 'X'), ('.', '.')], [('Commodity', 'NOUN'), ('prices', 'NOUN'), ('have', 'VERB'), ('been', 'VERB'), ('rising', 'VERB'), ('in', 'ADP'), ('recent', 'ADJ'), ('years', 'NOUN'), (',', '.'), ('with', 'ADP'), ('the', 'DET'), ('farm', 'NOUN'), ('price', 'NOUN'), ('index', 'NOUN'), ('hitting', 'VERB'), ('record', 'NOUN'), ('peaks', 'NOUN'), ('earlier', 'ADJ'), ('this', 'DET'), ('year', 'NOUN'), (',', '.'), ('as', 'ADP'), ('the', 'DET'), ('government', 'NOUN'), ('curtailed', 'VERB'), ('production', 'NOUN'), ('with', 'ADP'), ('land-idling', 'ADJ'), ('programs', 'NOUN'), ('*-1', 'X'), ('to', 'PRT'), ('reduce', 'VERB'), ('price-depressing', 'ADJ'), ('surpluses', 'NOUN'), ('.', '.')], [('In', 'ADP'), ('a', 'DET'), ('victory', 'NOUN'), ('for', 'ADP'), ('environmentalists', 'NOUN'), (',', '.'), ('Hungary', 'NOUN'), (\"'s\", 'PRT'), ('parliament', 'NOUN'), ('terminated', 'VERB'), ('a', 'DET'), ('multibillion-dollar', 'ADJ'), ('River', 'NOUN'), ('Danube', 'NOUN'), ('dam', 'NOUN'), ('being', 'VERB'), ('built', 'VERB'), ('*', 'X'), ('by', 'ADP'), ('Austrian', 'ADJ'), ('firms', 'NOUN'), ('.', '.')], [('Bears', 'NOUN'), ('have', 'VERB'), ('targeted', 'VERB'), ('Columbia', 'NOUN'), (\"'s\", 'PRT'), ('stock', 'NOUN'), ('because', 'ADP'), ('of', 'ADP'), ('the', 'DET'), ('thrift', 'NOUN'), (\"'s\", 'PRT'), ('exposure', 'NOUN'), ('to', 'PRT'), ('the', 'DET'), ('shaky', 'ADJ'), ('junk', 'NOUN'), ('market', 'NOUN'), ('.', '.')], [('But', 'CONJ'), ('Sony', 'NOUN'), ('ultimately', 'ADV'), ('took', 'VERB'), ('a', 'DET'), ('lesson', 'NOUN'), ('from', 'ADP'), ('the', 'DET'), ('American', 'ADJ'), ('management', 'NOUN'), ('books', 'NOUN'), ('and', 'CONJ'), ('fired', 'VERB'), ('Mr.', 'NOUN'), ('Katzenstein', 'NOUN'), (',', '.'), ('after', 'ADP'), ('he', 'PRON'), ('committed', 'VERB'), ('the', 'DET'), ('social', 'ADJ'), ('crime', 'NOUN'), ('of', 'ADP'), ('*', 'X'), ('making', 'VERB'), ('an', 'DET'), ('appointment', 'NOUN'), ('*', 'X'), ('to', 'PRT'), ('see', 'VERB'), ('the', 'DET'), ('venerable', 'ADJ'), ('Akio', 'NOUN'), ('Morita', 'NOUN'), (',', '.'), ('founder', 'NOUN'), ('of', 'ADP'), ('Sony', 'NOUN'), ('.', '.')], [('In', 'ADP'), ('addition', 'NOUN'), (',', '.'), ('Upjohn', 'NOUN'), ('is', 'VERB'), ('offering', 'VERB'), ('a', 'DET'), ('one-time', 'ADJ'), ('retirement', 'NOUN'), ('bonus', 'NOUN'), ('equal', 'ADJ'), ('to', 'PRT'), ('six', 'NUM'), ('months', 'NOUN'), ('of', 'ADP'), ('base', 'NOUN'), ('pay', 'NOUN'), ('.', '.')], [('Rekindled', 'VERB'), ('hope', 'NOUN'), ('that', 'ADP'), ('two', 'NUM'), ('New', 'NOUN'), ('England', 'NOUN'), ('states', 'NOUN'), ('will', 'VERB'), ('allow', 'VERB'), ('broader', 'ADJ'), ('interstate', 'ADJ'), ('banking', 'NOUN'), ('boosted', 'VERB'), ('Nasdaq', 'NOUN'), (\"'s\", 'PRT'), ('bank', 'NOUN'), ('stocks', 'NOUN'), (',', '.'), ('but', 'CONJ'), ('the', 'DET'), ('over-the-counter', 'ADJ'), ('market', 'NOUN'), ('was', 'VERB'), ('up', 'ADV'), ('only', 'ADV'), ('slightly', 'ADV'), ('in', 'ADP'), ('lackluster', 'ADJ'), ('trading', 'NOUN'), ('.', '.')], [('This', 'DET'), ('story', 'NOUN'), ('line', 'NOUN'), ('might', 'VERB'), ('resonate', 'VERB'), ('more', 'ADV'), ('strongly', 'ADV'), ('if', 'ADP'), ('Mr.', 'NOUN'), ('Lane', 'NOUN'), ('had', 'VERB'), ('as', 'ADV'), ('strong', 'ADJ'), ('a', 'DET'), ('presence', 'NOUN'), ('in', 'ADP'), ('front', 'NOUN'), ('of', 'ADP'), ('the', 'DET'), ('camera', 'NOUN'), ('as', 'ADP'), ('he', 'PRON'), ('does', 'VERB'), ('*?*', 'X'), ('behind', 'ADP'), ('it', 'PRON'), ('.', '.')], [('``', '.'), ('She', 'PRON'), ('was', 'VERB'), ('an', 'DET'), ('inspirational', 'ADJ'), ('lady', 'NOUN'), (';', '.'), ('she', 'PRON'), ('had', 'VERB'), ('it', 'PRON'), ('all', 'ADV'), ('together', 'ADV'), (',', '.'), (\"''\", '.'), ('says', 'VERB'), ('*T*-1', 'X'), ('Laura', 'NOUN'), ('Dobson', 'NOUN'), (',', '.'), ('a', 'DET'), ('freshman', 'NOUN'), ('at', 'ADP'), ('the', 'DET'), ('University', 'NOUN'), ('of', 'ADP'), ('South', 'NOUN'), ('Carolina', 'NOUN'), ('who', 'PRON'), ('*T*-90', 'X'), ('had', 'VERB'), ('Mrs.', 'NOUN'), ('Yeargin', 'NOUN'), ('in', 'ADP'), ('the', 'DET'), ('teacher-cadet', 'ADJ'), ('class', 'NOUN'), ('last', 'ADJ'), ('year', 'NOUN'), ('.', '.')], [('Under', 'ADP'), ('the', 'DET'), ('offer', 'NOUN'), (',', '.'), ('shareholders', 'NOUN'), ('will', 'VERB'), ('receive', 'VERB'), ('one', 'NUM'), ('right', 'ADJ'), ('for', 'ADP'), ('each', 'DET'), ('105', 'NUM'), ('common', 'ADJ'), ('shares', 'NOUN'), ('owned', 'VERB'), ('*', 'X'), ('.', '.')], [('Midwest', 'NOUN'), ('Financial', 'NOUN'), ('has', 'VERB'), ('$', '.'), ('2.3', 'NUM'), ('billion', 'NUM'), ('*U*', 'X'), ('in', 'ADP'), ('assets', 'NOUN'), ('and', 'CONJ'), ('eight', 'NUM'), ('banks', 'NOUN'), ('.', '.')], [('Mr.', 'NOUN'), ('Leinonen', 'NOUN'), ('said', 'VERB'), ('0', 'X'), ('he', 'PRON'), ('expects', 'VERB'), ('Ford', 'NOUN'), ('to', 'PRT'), ('meet', 'VERB'), ('the', 'DET'), ('deadline', 'NOUN'), ('easily', 'ADV'), ('.', '.')], [('The', 'DET'), ('benchmark', 'NOUN'), ('30-year', 'ADJ'), ('bond', 'NOUN'), ('about', 'ADP'), ('1\\\\/4', 'NUM'), ('point', 'NOUN'), (',', '.'), ('or', 'CONJ'), ('$', '.'), ('2.50', 'NUM'), ('*U*', 'X'), ('for', 'ADP'), ('each', 'DET'), ('$', '.'), ('1,000', 'NUM'), ('*U*', 'X'), ('face', 'NOUN'), ('amount', 'NOUN'), ('.', '.')], [('But', 'CONJ'), ('``', '.'), ('because', 'ADP'), ('it', 'PRON'), (\"'s\", 'VERB'), ('all', 'DET'), ('0', 'X'), ('we', 'PRON'), (\"'ve\", 'VERB'), ('got', 'VERB'), ('*T*-1', 'X'), (',', '.'), ('I', 'PRON'), (\"'m\", 'VERB'), ('going', 'VERB'), ('*-2', 'X'), ('to', 'PRT'), ('vote', 'VERB'), ('for', 'ADP'), ('it', 'PRON'), ('.', '.'), (\"''\", '.')], [('In', 'ADP'), ('a', 'DET'), ('monthly', 'ADJ'), ('report', 'NOUN'), ('prepared', 'VERB'), ('*', 'X'), ('for', 'ADP'), ('use', 'NOUN'), ('at', 'ADP'), ('the', 'DET'), ('Fed', 'NOUN'), (\"'s\", 'PRT'), ('next', 'ADJ'), ('Federal', 'NOUN'), ('Open', 'NOUN'), ('Market', 'NOUN'), ('Committee', 'NOUN'), ('meeting', 'NOUN'), ('on', 'ADP'), ('Nov.', 'NOUN'), ('14.', 'NUM'), (',', '.'), ('the', 'DET'), ('nation', 'NOUN'), (\"'s\", 'PRT'), ('central', 'ADJ'), ('bank', 'NOUN'), ('found', 'VERB'), ('that', 'ADP'), ('price', 'NOUN'), ('increases', 'NOUN'), ('have', 'VERB'), ('moderated', 'VERB'), ('and', 'CONJ'), ('economic', 'ADJ'), ('activity', 'NOUN'), ('has', 'VERB'), ('grown', 'VERB'), ('at', 'ADP'), ('a', 'DET'), ('sluggish', 'ADJ'), ('pace', 'NOUN'), ('in', 'ADP'), ('recent', 'ADJ'), ('weeks', 'NOUN'), ('.', '.')], [('The', 'DET'), ('National', 'NOUN'), ('Association', 'NOUN'), ('of', 'ADP'), ('Securities', 'NOUN'), ('Dealers', 'NOUN'), (',', '.'), ('the', 'DET'), ('self-regulatory', 'ADJ'), ('organization', 'NOUN'), ('for', 'ADP'), ('the', 'DET'), ('over-the-counter', 'ADJ'), ('securities', 'NOUN'), ('markets', 'NOUN'), (',', '.'), ('disciplined', 'VERB'), ('a', 'DET'), ('number', 'NOUN'), ('of', 'ADP'), ('firms', 'NOUN'), ('and', 'CONJ'), ('individuals', 'NOUN'), ('for', 'ADP'), ('alleged', 'ADJ'), ('violations', 'NOUN'), ('of', 'ADP'), ('industry', 'NOUN'), ('rules', 'NOUN'), ('.', '.')], [('Mr.', 'NOUN'), ('Sherwood', 'NOUN'), ('said', 'VERB'), ('0', 'X'), ('reaction', 'NOUN'), ('to', 'PRT'), ('Sea', 'NOUN'), ('Containers', 'NOUN'), (\"'\", 'PRT'), ('proposal', 'NOUN'), ('has', 'VERB'), ('been', 'VERB'), ('``', '.'), ('very', 'ADV'), ('positive', 'ADJ'), ('.', '.'), (\"''\", '.')], [('IRAs', 'NOUN'), ('.', '.')], [('First', 'NOUN'), ('of', 'ADP'), ('America', 'NOUN'), ('Bank', 'NOUN'), ('Corp.', 'NOUN'), ('said', 'VERB'), ('0', 'X'), ('it', 'PRON'), ('completed', 'VERB'), ('its', 'PRON'), ('acquisition', 'NOUN'), ('of', 'ADP'), ('Midwest', 'NOUN'), ('Financial', 'NOUN'), ('Group', 'NOUN'), ('Inc.', 'NOUN'), ('for', 'ADP'), ('about', 'ADP'), ('$', '.'), ('250', 'NUM'), ('million', 'NUM'), ('*U*', 'X'), ('.', '.')], [('And', 'CONJ'), ('South', 'NOUN'), ('Carolina', 'NOUN'), ('says', 'VERB'), ('0', 'X'), ('it', 'PRON'), ('is', 'VERB'), ('getting', 'VERB'), ('results', 'NOUN'), ('.', '.')], [('Those', 'DET'), ('efforts', 'NOUN'), ('are', 'VERB'), ('being', 'VERB'), ('stepped', 'VERB'), ('up', 'PRT'), ('*-1', 'X'), ('.', '.')], [('It', 'PRON'), ('uses', 'VERB'), ('a', 'DET'), ('base', 'NOUN'), ('of', 'ADP'), ('100', 'NUM'), ('in', 'ADP'), ('1985', 'NUM'), ('.', '.')], [('Mr.', 'NOUN'), ('Baum', 'NOUN'), ('said', 'VERB'), ('0', 'X'), ('the', 'DET'), ('two', 'NUM'), ('have', 'VERB'), ('orders', 'NOUN'), ('*', 'X'), ('to', 'PRT'), ('``', '.'), ('focus', 'VERB'), ('on', 'ADP'), ('bottom-line', 'ADJ'), ('profits', 'NOUN'), (\"''\", '.'), ('and', 'CONJ'), ('to', 'PRT'), ('``', '.'), ('take', 'VERB'), ('a', 'DET'), ('hard', 'ADJ'), ('look', 'NOUN'), ('at', 'ADP'), ('our', 'PRON'), ('businesses', 'NOUN'), ('--', '.'), ('what', 'PRON'), ('*T*-32', 'X'), ('is', 'VERB'), ('good', 'ADJ'), (',', '.'), ('what', 'PRON'), ('*T*-33', 'X'), ('is', 'VERB'), ('not', 'ADV'), ('so', 'ADV'), ('good', 'ADJ'), ('.', '.'), (\"''\", '.')], [('One', 'NUM'), ('could', 'VERB'), ('argue', 'VERB'), ('that', 'ADP'), ('it', 'PRON'), ('*EXP*-1', 'X'), ('is', 'VERB'), ('not', 'ADV'), ('an', 'DET'), ('assertion', 'NOUN'), ('of', 'ADP'), ('a', 'DET'), ('item', 'NOUN'), ('veto', 'NOUN'), ('at', 'ADP'), ('all', 'DET'), ('for', 'ADP'), ('the', 'DET'), ('president', 'NOUN'), (',', '.'), ('by', 'ADP'), ('*-2', 'X'), ('exerting', 'VERB'), ('a', 'DET'), ('power', 'NOUN'), ('of', 'ADP'), ('excision', 'NOUN'), (',', '.'), ('to', 'PRT'), ('resist', 'VERB'), ('unconstitutional', 'ADJ'), ('conditions', 'NOUN'), ('in', 'ADP'), ('legislation', 'NOUN'), ('that', 'DET'), ('*T*-3', 'X'), ('violate', 'VERB'), ('the', 'DET'), ('separation', 'NOUN'), ('of', 'ADP'), ('powers', 'NOUN'), ('.', '.')], [('What', 'PRON'), ('*ICH*-1', 'X'), ('*T*-41', 'X'), (\"'s\", 'VERB'), ('so', 'ADV'), ('wild', 'ADJ'), ('about', 'ADP'), ('the', 'DET'), ('funds', 'NOUN'), (\"'\", 'PRT'), ('frenzy', 'NOUN'), ('right', 'ADV'), ('now', 'ADV'), ('is', 'VERB'), ('that', 'ADP'), ('many', 'ADJ'), ('are', 'VERB'), ('trading', 'VERB'), ('at', 'ADP'), ('historically', 'ADV'), ('fat', 'ADJ'), ('premiums', 'NOUN'), ('to', 'PRT'), ('the', 'DET'), ('value', 'NOUN'), ('of', 'ADP'), ('their', 'PRON'), ('underlying', 'ADJ'), ('portfolios', 'NOUN'), ('.', '.')], [('Under', 'ADP'), ('an', 'DET'), ('accord', 'NOUN'), ('signed', 'VERB'), ('*', 'X'), ('yesterday', 'NOUN'), (',', '.'), ('the', 'DET'), ('government', 'NOUN'), ('and', 'CONJ'), ('Union', 'NOUN'), ('Bank', 'NOUN'), ('of', 'ADP'), ('Finland', 'NOUN'), ('would', 'VERB'), ('become', 'VERB'), ('major', 'ADJ'), ('shareholders', 'NOUN'), ('in', 'ADP'), ('the', 'DET'), ('new', 'ADJ'), ('company', 'NOUN'), (',', '.'), ('each', 'DET'), ('injecting', 'VERB'), ('100', 'NUM'), ('million', 'NUM'), ('Finnish', 'ADJ'), ('markkaa', 'NOUN'), ('-LRB-', '.'), ('$', '.'), ('23.5', 'NUM'), ('million', 'NUM'), ('*U*', 'X'), ('-RRB-', '.'), ('.', '.')], [('It', 'PRON'), (\"'s\", 'VERB'), ('made', 'VERB'), ('*-2', 'X'), ('only', 'ADV'), ('in', 'ADP'), ('years', 'NOUN'), ('when', 'ADV'), ('the', 'DET'), ('grapes', 'NOUN'), ('ripen', 'VERB'), ('perfectly', 'ADV'), ('*T*-1', 'X'), ('-LRB-', '.'), ('the', 'DET'), ('last', 'NOUN'), ('was', 'VERB'), ('1979', 'NUM'), ('-RRB-', '.'), ('and', 'CONJ'), ('comes', 'VERB'), ('from', 'ADP'), ('a', 'DET'), ('single', 'ADJ'), ('acre', 'NOUN'), ('of', 'ADP'), ('grapes', 'NOUN'), ('that', 'DET'), ('*T*-166', 'X'), ('yielded', 'VERB'), ('a', 'DET'), ('mere', 'ADJ'), ('75', 'NUM'), ('cases', 'NOUN'), ('in', 'ADP'), ('1987', 'NUM'), ('.', '.')], [('The', 'DET'), ('company', 'NOUN'), (',', '.'), ('which', 'DET'), ('*T*-237', 'X'), ('recently', 'ADV'), ('said', 'VERB'), ('0', 'X'), ('it', 'PRON'), ('lacked', 'VERB'), ('the', 'DET'), ('profits', 'NOUN'), ('and', 'CONJ'), ('capital', 'NOUN'), ('0', 'X'), ('*', 'X'), ('to', 'PRT'), ('pay', 'VERB'), ('dividends', 'NOUN'), ('on', 'ADP'), ('its', 'PRON'), ('Series', 'NOUN'), ('A', 'NOUN'), ('convertible', 'ADJ'), ('preferred', 'VERB'), ('stock', 'NOUN'), ('*T*-1', 'X'), (',', '.'), ('said', 'VERB'), ('0', 'X'), ('it', 'PRON'), ('has', 'VERB'), ('hired', 'VERB'), ('an', 'DET'), ('investment', 'NOUN'), ('banker', 'NOUN'), ('0', 'X'), ('*T*-2', 'X'), ('to', 'PRT'), ('help', 'VERB'), ('it', 'PRON'), ('raise', 'VERB'), ('additional', 'ADJ'), ('cash', 'NOUN'), ('.', '.')], [('Program', 'NOUN'), ('trading', 'NOUN'), ('is', 'VERB'), ('here', 'ADV'), ('*-1', 'X'), ('to', 'PRT'), ('stay', 'VERB'), (',', '.'), ('and', 'CONJ'), ('computers', 'NOUN'), ('are', 'VERB'), ('here', 'ADV'), ('*-2', 'X'), ('to', 'PRT'), ('stay', 'VERB'), (',', '.'), ('and', 'CONJ'), ('we', 'PRON'), ('just', 'ADV'), ('need', 'VERB'), ('*-3', 'X'), ('to', 'PRT'), ('understand', 'VERB'), ('it', 'PRON'), ('.', '.'), (\"''\", '.')], [('The', 'DET'), ('32', 'NUM'), ('%', 'NOUN'), ('state-owned', 'ADJ'), ('DSM', 'NOUN'), ('had', 'VERB'), ('eight', 'NUM'), ('million', 'NUM'), ('guilders', 'NOUN'), ('of', 'ADP'), ('extraordinary', 'ADJ'), ('charges', 'NOUN'), ('in', 'ADP'), ('the', 'DET'), ('latest', 'ADJ'), ('quarter', 'NOUN'), (',', '.'), ('mainly', 'ADV'), ('*', 'X'), ('to', 'PRT'), ('reflect', 'VERB'), ('one-time', 'ADJ'), ('losses', 'NOUN'), ('in', 'ADP'), ('connection', 'NOUN'), ('with', 'ADP'), ('the', 'DET'), ('disposal', 'NOUN'), ('of', 'ADP'), ('some', 'DET'), ('operations', 'NOUN'), ('.', '.')], [('Some', 'DET'), ('Asian', 'ADJ'), ('nations', 'NOUN'), ('are', 'VERB'), ('apprehensive', 'ADJ'), ('about', 'ADP'), ('Washington', 'NOUN'), (\"'s\", 'PRT'), ('demand', 'NOUN'), ('that', 'ADP'), ('Tokyo', 'NOUN'), ('step', 'VERB'), ('up', 'PRT'), ('its', 'PRON'), ('military', 'ADJ'), ('spending', 'NOUN'), ('*-1', 'X'), ('to', 'PRT'), ('ease', 'VERB'), ('the', 'DET'), ('U.S.', 'NOUN'), ('security', 'NOUN'), ('burden', 'NOUN'), ('in', 'ADP'), ('the', 'DET'), ('region', 'NOUN'), ('.', '.')]]\n"
     ]
    }
   ],
   "source": [
    "# Splitting into train and test\n",
    "random.seed(1234)\n",
    "train_set, test_set = train_test_split(nltk_data,test_size=0.5)\n",
    "\n",
    "print(len(train_set))\n",
    "print(len(test_set))\n",
    "print(train_set[:40])"
   ]
  },
  {
   "cell_type": "code",
   "execution_count": 227,
   "metadata": {},
   "outputs": [
    {
     "data": {
      "text/plain": [
       "50317"
      ]
     },
     "execution_count": 227,
     "metadata": {},
     "output_type": "execute_result"
    }
   ],
   "source": [
    "# Getting list of tagged words\n",
    "train_tagged_words = [tup for sent in train_set for tup in sent]\n",
    "len(train_tagged_words)"
   ]
  },
  {
   "cell_type": "code",
   "execution_count": 228,
   "metadata": {},
   "outputs": [
    {
     "data": {
      "text/plain": [
       "['But',\n",
       " 'many',\n",
       " 'banks',\n",
       " 'are',\n",
       " 'turning',\n",
       " 'away',\n",
       " 'from',\n",
       " 'strict',\n",
       " 'price',\n",
       " 'competition']"
      ]
     },
     "execution_count": 228,
     "metadata": {},
     "output_type": "execute_result"
    }
   ],
   "source": [
    "# tokens \n",
    "tokens = [pair[0] for pair in train_tagged_words]\n",
    "tokens[:10]"
   ]
  },
  {
   "cell_type": "code",
   "execution_count": 229,
   "metadata": {},
   "outputs": [
    {
     "name": "stdout",
     "output_type": "stream",
     "text": [
      "8539\n"
     ]
    }
   ],
   "source": [
    "# vocabulary\n",
    "V = set(tokens)\n",
    "print(len(V))"
   ]
  },
  {
   "cell_type": "code",
   "execution_count": 230,
   "metadata": {},
   "outputs": [
    {
     "data": {
      "text/plain": [
       "{'.',\n",
       " 'ADJ',\n",
       " 'ADP',\n",
       " 'ADV',\n",
       " 'CONJ',\n",
       " 'DET',\n",
       " 'NOUN',\n",
       " 'NUM',\n",
       " 'PRON',\n",
       " 'PRT',\n",
       " 'VERB',\n",
       " 'X'}"
      ]
     },
     "execution_count": 230,
     "metadata": {},
     "output_type": "execute_result"
    }
   ],
   "source": [
    "# number of tags\n",
    "T = set([pair[1] for pair in train_tagged_words])\n",
    "len(T)\n",
    "T"
   ]
  },
  {
   "cell_type": "code",
   "execution_count": 231,
   "metadata": {},
   "outputs": [],
   "source": [
    "# compute tag given tag: tag2(t2) given tag1 (t1), i.e. Transition Probability\n",
    "\n",
    "def t2_given_t1(t2, t1, train_bag = train_tagged_words):\n",
    "    tags = [pair[1] for pair in train_bag]\n",
    "    count_t1 = len([t for t in tags if t==t1])\n",
    "    count_t2_t1 = 0\n",
    "    for index in range(len(tags)-1):\n",
    "        if tags[index]==t1 and tags[index+1] == t2:\n",
    "            count_t2_t1 += 1\n",
    "    return (count_t2_t1, count_t1)"
   ]
  },
  {
   "cell_type": "code",
   "execution_count": 232,
   "metadata": {},
   "outputs": [],
   "source": [
    "# creating t x t transition matrix of tags\n",
    "\n",
    "tags_matrix = np.zeros((len(T), len(T)), dtype='float32')\n",
    "for i, t1 in enumerate(list(T)):\n",
    "    for j, t2 in enumerate(list(T)): \n",
    "        tags_matrix[i, j] = t2_given_t1(t2, t1)[0]/t2_given_t1(t2, t1)[1]"
   ]
  },
  {
   "cell_type": "code",
   "execution_count": 233,
   "metadata": {},
   "outputs": [],
   "source": [
    "# convert the matrix to a df for better readability\n",
    "tags_df = pd.DataFrame(tags_matrix, columns = list(T), index=list(T))"
   ]
  },
  {
   "cell_type": "markdown",
   "metadata": {},
   "source": [
    "### Build the vanilla Viterbi based POS tagger"
   ]
  },
  {
   "cell_type": "code",
   "execution_count": 234,
   "metadata": {},
   "outputs": [],
   "source": [
    "# Viterbi Algorithm.\n",
    "def Viterbi(words, train_bag = train_tagged_words):\n",
    "    state = []\n",
    "    T = list(set([pair[1] for pair in train_bag]))\n",
    "    \n",
    "    for key, word in enumerate(words):\n",
    "        p = [] \n",
    "        for tag in T:\n",
    "            if key == 0:\n",
    "                transition_p = tags_df.loc['.', tag]\n",
    "            else:\n",
    "                transition_p = tags_df.loc[state[-1], tag]\n",
    "                \n",
    "            # compute emission and state probabilities\n",
    "            emission_p = word_given_tag(words[key], tag)[0]/word_given_tag(words[key], tag)[1]\n",
    "            state_probability = emission_p * transition_p    \n",
    "            p.append(state_probability)\n",
    "            \n",
    "        pmax = max(p)\n",
    "        # getting state for which probability is maximum\n",
    "        state_max = T[p.index(pmax)] \n",
    "        state.append(state_max)\n",
    "    return list(zip(words, state))"
   ]
  },
  {
   "cell_type": "code",
   "execution_count": 235,
   "metadata": {},
   "outputs": [
    {
     "data": {
      "text/plain": [
       "['``',\n",
       " 'They',\n",
       " 'view',\n",
       " 'this',\n",
       " 'as',\n",
       " 'a',\n",
       " 'growth',\n",
       " 'area',\n",
       " 'so',\n",
       " 'they',\n",
       " 'went',\n",
       " 'about',\n",
       " 'it',\n",
       " 'with',\n",
       " 'a',\n",
       " 'systematic',\n",
       " 'approach',\n",
       " ',',\n",
       " \"''\",\n",
       " 'says',\n",
       " '*T*-1',\n",
       " 'Richard',\n",
       " 'Olsen',\n",
       " ',',\n",
       " 'a',\n",
       " 'Candela',\n",
       " 'vice',\n",
       " 'president',\n",
       " '.',\n",
       " 'American',\n",
       " 'Express',\n",
       " 'Co.',\n",
       " 'and',\n",
       " 'General',\n",
       " 'Motors',\n",
       " 'Corp.',\n",
       " \"'s\",\n",
       " 'beleaguered',\n",
       " 'Buick',\n",
       " 'division',\n",
       " 'are',\n",
       " 'joining',\n",
       " 'forces',\n",
       " 'in',\n",
       " 'a',\n",
       " 'promotion',\n",
       " 'aimed',\n",
       " '*',\n",
       " 'at',\n",
       " '*',\n",
       " 'boosting',\n",
       " 'Buick',\n",
       " \"'s\",\n",
       " 'sales',\n",
       " 'while',\n",
       " '*',\n",
       " 'encouraging',\n",
       " 'broader',\n",
       " 'use',\n",
       " 'of',\n",
       " 'the',\n",
       " 'American',\n",
       " 'Express',\n",
       " 'card',\n",
       " '.',\n",
       " '``',\n",
       " 'It',\n",
       " 'has',\n",
       " '*-1',\n",
       " 'to',\n",
       " 'weigh',\n",
       " ',',\n",
       " 'on',\n",
       " 'the',\n",
       " 'other',\n",
       " 'hand',\n",
       " ',',\n",
       " 'the',\n",
       " 'relatively',\n",
       " 'high',\n",
       " 'price',\n",
       " 'of',\n",
       " 'sugar',\n",
       " '0',\n",
       " 'it',\n",
       " 'can',\n",
       " 'earn',\n",
       " '*T*-3',\n",
       " 'on',\n",
       " 'the',\n",
       " 'export',\n",
       " 'market',\n",
       " 'in',\n",
       " '*',\n",
       " 'making',\n",
       " 'decisions',\n",
       " 'as',\n",
       " 'to',\n",
       " 'whether',\n",
       " '*',\n",
       " 'to',\n",
       " 'produce',\n",
       " 'sugar',\n",
       " 'or',\n",
       " 'alcohol',\n",
       " ',',\n",
       " \"''\",\n",
       " 'Mr.',\n",
       " 'Oxnard',\n",
       " 'said',\n",
       " '*T*-2',\n",
       " '.',\n",
       " 'The',\n",
       " 'additional',\n",
       " 'technology',\n",
       " ',',\n",
       " 'personnel',\n",
       " 'training',\n",
       " 'and',\n",
       " 'promotional',\n",
       " 'effort',\n",
       " 'can',\n",
       " 'be',\n",
       " 'expensive',\n",
       " '.',\n",
       " 'The',\n",
       " 'board',\n",
       " 'already',\n",
       " 'has',\n",
       " 'been',\n",
       " 'searching',\n",
       " 'for',\n",
       " 'strong',\n",
       " 'outside',\n",
       " 'candidates',\n",
       " ',',\n",
       " 'including',\n",
       " 'food-industry',\n",
       " 'executives',\n",
       " 'with',\n",
       " 'considerable',\n",
       " 'international',\n",
       " 'experience',\n",
       " '.']"
      ]
     },
     "execution_count": 235,
     "metadata": {},
     "output_type": "execute_result"
    }
   ],
   "source": [
    "# Running on entire test dataset would take more than 3-4hrs. \n",
    "# Let's test our Viterbi algorithm on a few sample sentences of test dataset\n",
    "\n",
    "random.seed(1234)\n",
    "\n",
    "# choose random 5 sents\n",
    "rndom = [random.randint(1,len(test_set)) for x in range(5)]\n",
    "\n",
    "# list of sents\n",
    "test_run = [test_set[i] for i in rndom]\n",
    "\n",
    "# list of tagged words\n",
    "test_run_base = [tup for sent in test_run for tup in sent]\n",
    "\n",
    "# list of untagged words\n",
    "test_tagged_words = [tup[0] for sent in test_run for tup in sent]\n",
    "test_tagged_words"
   ]
  },
  {
   "cell_type": "code",
   "execution_count": null,
   "metadata": {},
   "outputs": [],
   "source": [
    "# tagging the test sentences\n",
    "start = time.time()\n",
    "tagged_seq = Viterbi(test_tagged_words)\n",
    "end = time.time()\n",
    "difference = end-start\n",
    "print(\"Time taken in seconds: \", difference)\n",
    "print(tagged_seq)"
   ]
  },
  {
   "cell_type": "code",
   "execution_count": null,
   "metadata": {},
   "outputs": [],
   "source": [
    "## Testing\n",
    "sentence_test = 'Android is a mobile operating system developed by Google. Android has been the best-selling OS worldwide on smartphones since 2011 and on tablets since 2013. Google and Twitter made a deal in 2015 that gave Google access to Twitter\\'s firehose. Twitter is an online news and social networking service on which users post and interact with messages known as tweets. Before entering politics, Donald Trump was a domineering businessman and a television personality.'\n",
    "words = word_tokenize(sentence_test)\n",
    "\n",
    "start = time.time()\n",
    "test_tagged_seq = Viterbi(words)\n",
    "end = time.time()\n",
    "difference = end-start\n",
    "\n",
    "\n",
    "print(\"Time taken in seconds: \", difference)\n",
    "print(test_tagged_seq)\n",
    "\n",
    "\n"
   ]
  },
  {
   "cell_type": "markdown",
   "metadata": {},
   "source": [
    "### Solve the problem of unknown words"
   ]
  },
  {
   "cell_type": "code",
   "execution_count": null,
   "metadata": {},
   "outputs": [],
   "source": [
    "# Lexicon Tagger.\n",
    "unigram_tagger = nltk.UnigramTagger(train_set)"
   ]
  },
  {
   "cell_type": "code",
   "execution_count": null,
   "metadata": {},
   "outputs": [],
   "source": [
    "# specify patterns for tagging\n",
    "patterns = [\n",
    "    (r'.*ing$', 'VBG'),              # gerund\n",
    "    (r'.*ed$', 'VBD'),               # past tense\n",
    "    (r'.*es$', 'VBZ'),               # 3rd singular present\n",
    "    (r'.*ould$', 'MD'),              # modals\n",
    "    (r'.*\\'s$', 'NN$'),              # possessive nouns\n",
    "    (r'.*s$', 'NNS'),                # plural nouns\n",
    "    (r'.*', 'NN')                    # nouns\n",
    "]"
   ]
  },
  {
   "cell_type": "code",
   "execution_count": null,
   "metadata": {},
   "outputs": [],
   "source": [
    "regexp_tagger = nltk.RegexpTagger(patterns)"
   ]
  },
  {
   "cell_type": "markdown",
   "metadata": {},
   "source": [
    "#### Evaluating tagging accuracy"
   ]
  },
  {
   "cell_type": "code",
   "execution_count": null,
   "metadata": {},
   "outputs": [],
   "source": [
    "unigram_tagger.evaluate(test_set)"
   ]
  },
  {
   "cell_type": "code",
   "execution_count": null,
   "metadata": {},
   "outputs": [],
   "source": [
    "# Rule-Based Tagger\n",
    "regexp_tagger = nltk.RegexpTagger(patterns)\n",
    "regexp_tagger.evaluate(test_set)"
   ]
  },
  {
   "cell_type": "markdown",
   "metadata": {},
   "source": [
    "### Compare the tagging accuracies of the modifications with the vanilla Viterbi algorithm"
   ]
  },
  {
   "cell_type": "code",
   "execution_count": null,
   "metadata": {},
   "outputs": [],
   "source": [
    "# accuracy\n",
    "check = [i for i, j in zip(tagged_seq, test_run_base) if i == j] "
   ]
  },
  {
   "cell_type": "code",
   "execution_count": null,
   "metadata": {},
   "outputs": [],
   "source": [
    "accuracy = len(check)/len(tagged_seq)"
   ]
  },
  {
   "cell_type": "code",
   "execution_count": null,
   "metadata": {},
   "outputs": [],
   "source": [
    "accuracy"
   ]
  },
  {
   "cell_type": "markdown",
   "metadata": {},
   "source": [
    "### List down cases which were incorrectly tagged by original POS tagger and got corrected by your modifications"
   ]
  },
  {
   "cell_type": "code",
   "execution_count": null,
   "metadata": {},
   "outputs": [],
   "source": [
    "# compute word given tag: Emission Probability\n",
    "def word_given_tag(word, tag, train_bag = train_tagged_words):\n",
    "    tag_list = [pair for pair in train_bag if pair[1]==tag]\n",
    "    count_tag = len(tag_list)\n",
    "    w_given_tag_list = [pair[0] for pair in tag_list if pair[0]==word]\n",
    "    count_w_given_tag = len(w_given_tag_list)\n",
    "    \n",
    "    return (count_w_given_tag, count_tag)"
   ]
  },
  {
   "cell_type": "code",
   "execution_count": null,
   "metadata": {},
   "outputs": [],
   "source": []
  },
  {
   "cell_type": "code",
   "execution_count": null,
   "metadata": {},
   "outputs": [],
   "source": []
  }
 ],
 "metadata": {
  "kernelspec": {
   "display_name": "Python 3",
   "language": "python",
   "name": "python3"
  },
  "language_info": {
   "codemirror_mode": {
    "name": "ipython",
    "version": 3
   },
   "file_extension": ".py",
   "mimetype": "text/x-python",
   "name": "python",
   "nbconvert_exporter": "python",
   "pygments_lexer": "ipython3",
   "version": "3.7.1"
  }
 },
 "nbformat": 4,
 "nbformat_minor": 2
}
